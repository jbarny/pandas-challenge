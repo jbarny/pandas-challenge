{
 "cells": [
  {
   "cell_type": "markdown",
   "metadata": {},
   "source": [
    "### Note\n",
    "* Instructions have been included for each segment. You do not have to follow them exactly, but they are included to help you think through the steps."
   ]
  },
  {
   "cell_type": "code",
   "execution_count": null,
   "metadata": {},
   "outputs": [],
   "source": [
    "# Dependencies and Setup\n",
    "import pandas as pd\n",
    "\n",
    "# File to Load (Remember to Change These)\n",
    "file_to_load = \"Resources/purchase_data.csv\"\n",
    "\n",
    "# Read Purchasing File and store into Pandas data frame\n",
    "purchase_data = pd.read_csv(file_to_load)\n",
    "purchase_data.head()"
   ]
  },
  {
   "cell_type": "markdown",
   "metadata": {},
   "source": [
    "## Player Count"
   ]
  },
  {
   "cell_type": "markdown",
   "metadata": {},
   "source": [
    "* Display the total number of players\n"
   ]
  },
  {
   "cell_type": "code",
   "execution_count": null,
   "metadata": {},
   "outputs": [],
   "source": [
    "player_count = purchase_data[\"SN\"].nunique()\n",
    "print(f\"Player Count: {player_count}\")"
   ]
  },
  {
   "cell_type": "markdown",
   "metadata": {},
   "source": [
    "## Purchasing Analysis (Total)"
   ]
  },
  {
   "cell_type": "markdown",
   "metadata": {},
   "source": [
    "* Run basic calculations to obtain number of unique items, average price, etc.\n",
    "\n",
    "\n",
    "* Create a summary data frame to hold the results\n",
    "\n",
    "\n",
    "* Optional: give the displayed data cleaner formatting\n",
    "\n",
    "\n",
    "* Display the summary data frame\n"
   ]
  },
  {
   "cell_type": "code",
   "execution_count": null,
   "metadata": {
    "scrolled": true
   },
   "outputs": [],
   "source": [
    "purchasing_analysis_df = pd.DataFrame({\n",
    "        \"Number of Unique Items\": [len(purchase_data[\"Item ID\"].unique())],\n",
    "        \"Average Price\": purchase_data[\"Price\"].mean(),\n",
    "        \"Number of Purchases\": len(purchase_data),\n",
    "        \"Total Revenue\": purchase_data[\"Price\"].sum()\n",
    "})\n",
    "\n",
    "purchasing_analysis_df[\"Average Price\"] = purchasing_analysis_df[\"Average Price\"].map(\"${:.2f}\".format)\n",
    "purchasing_analysis_df[\"Total Revenue\"] = purchasing_analysis_df[\"Total Revenue\"].map(\"${:,.2f}\".format)\n",
    "\n",
    "purchasing_analysis_df"
   ]
  },
  {
   "cell_type": "markdown",
   "metadata": {},
   "source": [
    "## Gender Demographics"
   ]
  },
  {
   "cell_type": "markdown",
   "metadata": {},
   "source": [
    "* Percentage and Count of Male Players\n",
    "\n",
    "\n",
    "* Percentage and Count of Female Players\n",
    "\n",
    "\n",
    "* Percentage and Count of Other / Non-Disclosed\n",
    "\n",
    "\n"
   ]
  },
  {
   "cell_type": "code",
   "execution_count": null,
   "metadata": {},
   "outputs": [],
   "source": [
    "# group by gender\n",
    "gender_group_df = purchase_data.groupby([\"Gender\"])\n",
    "\n",
    "gender_count = gender_group_df[\"SN\"].nunique()\n",
    "gender_percent = gender_count / player_count * 100\n",
    "\n",
    "gender_perc_summary_df = pd.DataFrame({\n",
    "    \"Total Count\": gender_count,\n",
    "    \"Percentage of Players\": gender_percent.map(\"{:.2f}%\".format)\n",
    "})\n",
    "\n",
    "gender_perc_summary_df"
   ]
  },
  {
   "cell_type": "markdown",
   "metadata": {},
   "source": [
    "\n",
    "## Purchasing Analysis (Gender)"
   ]
  },
  {
   "cell_type": "markdown",
   "metadata": {},
   "source": [
    "* Run basic calculations to obtain purchase count, avg. purchase price, avg. purchase total per person etc. by gender\n",
    "\n",
    "\n",
    "\n",
    "\n",
    "* Create a summary data frame to hold the results\n",
    "\n",
    "\n",
    "* Optional: give the displayed data cleaner formatting\n",
    "\n",
    "\n",
    "* Display the summary data frame"
   ]
  },
  {
   "cell_type": "code",
   "execution_count": null,
   "metadata": {},
   "outputs": [],
   "source": [
    "gender_purchases = gender_group_df[\"Purchase ID\"].count()\n",
    "avg_price = gender_group_df[\"Price\"].mean()\n",
    "total_price = gender_group_df[\"Price\"].sum()\n",
    "total_pp = total_price / gender_count\n",
    "\n",
    "gender_purch_df = pd.DataFrame({\n",
    "    \"Purchase Count\": gender_purchases,\n",
    "    \"Average Purchase Price\": avg_price.map(\"${:.2f}\".format),\n",
    "    \"Total Purchase Value\": total_price.map(\"${:,.2f}\".format),\n",
    "    \"Avg Total Purchase per Person\": total_pp.map(\"${:.2f}\".format)\n",
    "})\n",
    "\n",
    "gender_purch_df"
   ]
  },
  {
   "cell_type": "markdown",
   "metadata": {},
   "source": [
    "## Age Demographics"
   ]
  },
  {
   "cell_type": "markdown",
   "metadata": {},
   "source": [
    "* Establish bins for ages\n",
    "\n",
    "\n",
    "* Categorize the existing players using the age bins. Hint: use pd.cut()\n",
    "\n",
    "\n",
    "* Calculate the numbers and percentages by age group\n",
    "\n",
    "\n",
    "* Create a summary data frame to hold the results\n",
    "\n",
    "\n",
    "* Optional: round the percentage column to two decimal points\n",
    "\n",
    "\n",
    "* Display Age Demographics Table\n"
   ]
  },
  {
   "cell_type": "markdown",
   "metadata": {},
   "source": [
    "## Purchasing Analysis (Age)"
   ]
  },
  {
   "cell_type": "code",
   "execution_count": null,
   "metadata": {},
   "outputs": [],
   "source": [
    "bins = [0, 9, 14, 19, 24, 29, 34, 39, 50]\n",
    "\n",
    "group_names = [\"<10\", \"10-14\", \"15-19\", \"20-24\", \"25-29\", \"30-34\", \"35-39\", \"40+\"]\n",
    "\n",
    "purchase_data[\"Age Ranges\"] = pd.cut(purchase_data[\"Age\"], bins, labels=group_names)\n",
    "age_df = purchase_data.groupby(\"Age Ranges\")\n",
    "\n",
    "age_demo_df = pd.DataFrame({\n",
    "    \"Total Count\": age_df[\"SN\"].nunique(),\n",
    "    \"Percentage of Players\": (age_df[\"SN\"].nunique() / player_count * 100).map(\"{:.2f}%\".format)\n",
    "})\n",
    "\n",
    "age_demo_df"
   ]
  },
  {
   "cell_type": "markdown",
   "metadata": {},
   "source": [
    "* Bin the purchase_data data frame by age\n",
    "\n",
    "\n",
    "* Run basic calculations to obtain purchase count, avg. purchase price, avg. purchase total per person etc. in the table below\n",
    "\n",
    "\n",
    "* Create a summary data frame to hold the results\n",
    "\n",
    "\n",
    "* Optional: give the displayed data cleaner formatting\n",
    "\n",
    "\n",
    "* Display the summary data frame"
   ]
  },
  {
   "cell_type": "code",
   "execution_count": null,
   "metadata": {
    "scrolled": true
   },
   "outputs": [],
   "source": [
    "purch_analysis_age_df = pd.DataFrame({\n",
    "    \"Purchase Count\": age_df[\"Price\"].count(),\n",
    "    \"Average Purchase Price\": age_df[\"Price\"].mean().map(\"${:.2f}\".format),\n",
    "    \"Total Purchase Value\": (age_df[\"Price\"].count() * age_df[\"Price\"].mean()).map(\"${:,.2f}\".format),\n",
    "    \"Average Total Purchase Per Person\": (age_df[\"Price\"].sum() / age_df[\"SN\"].nunique()).map(\"${:.2f}\".format)\n",
    "})\n",
    "\n",
    "purch_analysis_age_df"
   ]
  },
  {
   "cell_type": "markdown",
   "metadata": {},
   "source": [
    "## Top Spenders"
   ]
  },
  {
   "cell_type": "markdown",
   "metadata": {},
   "source": [
    "* Run basic calculations to obtain the results in the table below\n",
    "\n",
    "\n",
    "* Create a summary data frame to hold the results\n",
    "\n",
    "\n",
    "* Sort the total purchase value column in descending order\n",
    "\n",
    "\n",
    "* Optional: give the displayed data cleaner formatting\n",
    "\n",
    "\n",
    "* Display a preview of the summary data frame\n",
    "\n"
   ]
  },
  {
   "cell_type": "code",
   "execution_count": null,
   "metadata": {
    "scrolled": true
   },
   "outputs": [],
   "source": [
    "users = purchase_data.groupby(\"SN\")\n",
    "avg_purchase = users[\"Price\"].mean()\n",
    "purchase_count = users[\"Price\"].count()\n",
    "\n",
    "spenders_df = pd.DataFrame({\n",
    "    \"Purchase Count\": purchase_count,\n",
    "    \"Average Purchase Price\": avg_purchase,\n",
    "    \"Total Purchase Value\": purchase_count * avg_purchase\n",
    "})\n",
    "\n",
    "spenders_df = spenders_df.sort_values(\"Total Purchase Value\", ascending=False)\n",
    "spenders_df[\"Average Purchase Price\"] = spenders_df[\"Average Purchase Price\"].map(\"${:.2f}\".format)\n",
    "spenders_df[\"Total Purchase Value\"] = spenders_df[\"Total Purchase Value\"].map(\"${:,.2f}\".format)\n",
    "\n",
    "spenders_df.head()"
   ]
  },
  {
   "cell_type": "markdown",
   "metadata": {},
   "source": [
    "## Most Popular Items"
   ]
  },
  {
   "cell_type": "raw",
   "metadata": {},
   "source": [
    "* Retrieve the Item ID, Item Name, and Item Price columns\n",
    "\n",
    "\n",
    "* Group by Item ID and Item Name. Perform calculations to obtain purchase count, item price, and total purchase value\n",
    "\n",
    "\n",
    "* Create a summary data frame to hold the results\n",
    "\n",
    "\n",
    "* Sort the purchase count column in descending order\n",
    "\n",
    "\n",
    "* Optional: give the displayed data cleaner formatting\n",
    "\n",
    "\n",
    "* Display a preview of the summary data frame\n",
    "\n"
   ]
  },
  {
   "cell_type": "code",
   "execution_count": null,
   "metadata": {},
   "outputs": [],
   "source": [
    "grouped_items = purchase_data.groupby([\"Item ID\",\"Item Name\"])\n",
    "\n",
    "grouped_items_df = pd.DataFrame({\n",
    "    \"Purchase Count\": grouped_items[\"Price\"].count(),\n",
    "    \"Item Price\": grouped_items[\"Price\"].first(),\n",
    "    \"Total Purchase Value\": grouped_items[\"Price\"].count() * grouped_items[\"Price\"].first()\n",
    "})\n",
    "\n",
    "popular_items_df = grouped_items_df.sort_values(\"Purchase Count\", ascending=False)\n",
    "popular_items_df[\"Item Price\"] = popular_items_df[\"Item Price\"].map(\"${:.2f}\".format)\n",
    "popular_items_df[\"Total Purchase Value\"] = popular_items_df[\"Total Purchase Value\"].map(\"${:.2f}\".format)\n",
    "\n",
    "popular_items_df.head()"
   ]
  },
  {
   "cell_type": "markdown",
   "metadata": {},
   "source": [
    "## Most Profitable Items"
   ]
  },
  {
   "cell_type": "markdown",
   "metadata": {},
   "source": [
    "* Sort the above table by total purchase value in descending order\n",
    "\n",
    "\n",
    "* Optional: give the displayed data cleaner formatting\n",
    "\n",
    "\n",
    "* Display a preview of the data frame\n",
    "\n"
   ]
  },
  {
   "cell_type": "code",
   "execution_count": null,
   "metadata": {
    "scrolled": true
   },
   "outputs": [],
   "source": [
    "profitable_items_df = grouped_items_df.sort_values(\"Total Purchase Value\", ascending=False)\n",
    "profitable_items_df[\"Item Price\"] = profitable_items_df[\"Item Price\"].map(\"${:.2f}\".format)\n",
    "profitable_items_df[\"Total Purchase Value\"] = profitable_items_df[\"Total Purchase Value\"].map(\"${:.2f}\".format)\n",
    "\n",
    "profitable_items_df.head()"
   ]
  },
  {
   "cell_type": "code",
   "execution_count": null,
   "metadata": {},
   "outputs": [],
   "source": [
    "# CONCLUSIONS / 3 OBSERVABLE TRENDS\n",
    "\n",
    "#1. There are more male players by far, but females spend more on average.\n",
    "\n",
    "#2. Almost half of all players are in their early twenties (ages 20-24).\n",
    "\n",
    "#3. While they are one of the smaller groups, players aged 35-39 spend the most both per game and per person overall."
   ]
  },
  {
   "cell_type": "code",
   "execution_count": null,
   "metadata": {},
   "outputs": [],
   "source": []
  }
 ],
 "metadata": {
  "anaconda-cloud": {},
  "kernel_info": {
   "name": "python3"
  },
  "kernelspec": {
   "display_name": "Python 3",
   "language": "python",
   "name": "python3"
  },
  "language_info": {
   "codemirror_mode": {
    "name": "ipython",
    "version": 3
   },
   "file_extension": ".py",
   "mimetype": "text/x-python",
   "name": "python",
   "nbconvert_exporter": "python",
   "pygments_lexer": "ipython3",
   "version": "3.7.4"
  },
  "latex_envs": {
   "LaTeX_envs_menu_present": true,
   "autoclose": false,
   "autocomplete": true,
   "bibliofile": "biblio.bib",
   "cite_by": "apalike",
   "current_citInitial": 1,
   "eqLabelWithNumbers": true,
   "eqNumInitial": 1,
   "hotkeys": {
    "equation": "Ctrl-E",
    "itemize": "Ctrl-I"
   },
   "labels_anchors": false,
   "latex_user_defs": false,
   "report_style_numbering": false,
   "user_envs_cfg": false
  },
  "nteract": {
   "version": "0.2.0"
  }
 },
 "nbformat": 4,
 "nbformat_minor": 2
}
